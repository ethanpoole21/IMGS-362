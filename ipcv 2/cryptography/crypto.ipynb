{
 "metadata": {
  "language_info": {
   "codemirror_mode": {
    "name": "ipython",
    "version": 3
   },
   "file_extension": ".py",
   "mimetype": "text/x-python",
   "name": "python",
   "nbconvert_exporter": "python",
   "pygments_lexer": "ipython3",
   "version": "3.8.8-final"
  },
  "orig_nbformat": 2,
  "kernelspec": {
   "name": "python3",
   "display_name": "Python 3.8.8 64-bit ('ethan': conda)",
   "metadata": {
    "interpreter": {
     "hash": "dca47c05b03a97d40d605e8dc5e7660dfa5185f713b43135186a09472b5127a9"
    }
   }
  }
 },
 "nbformat": 4,
 "nbformat_minor": 2,
 "cells": [
  {
   "cell_type": "code",
   "execution_count": 7,
   "metadata": {},
   "outputs": [],
   "source": [
    "import cv2\n",
    "import numpy as np\n",
    "import matplotlib.pyplot as plt\n",
    "import random"
   ]
  },
  {
   "cell_type": "code",
   "execution_count": 11,
   "metadata": {},
   "outputs": [
    {
     "output_type": "execute_result",
     "data": {
      "text/plain": [
       "<matplotlib.image.AxesImage at 0x7ff16eb02130>"
      ]
     },
     "metadata": {},
     "execution_count": 11
    },
    {
     "output_type": "display_data",
     "data": {
      "text/plain": "<Figure size 432x288 with 1 Axes>",
      "image/svg+xml": "<?xml version=\"1.0\" encoding=\"utf-8\" standalone=\"no\"?>\n<!DOCTYPE svg PUBLIC \"-//W3C//DTD SVG 1.1//EN\"\n  \"http://www.w3.org/Graphics/SVG/1.1/DTD/svg11.dtd\">\n<!-- Created with matplotlib (https://matplotlib.org/) -->\n<svg height=\"252.210756pt\" version=\"1.1\" viewBox=\"0 0 272.858059 252.210756\" width=\"272.858059pt\" xmlns=\"http://www.w3.org/2000/svg\" xmlns:xlink=\"http://www.w3.org/1999/xlink\">\n <metadata>\n  <rdf:RDF xmlns:cc=\"http://creativecommons.org/ns#\" xmlns:dc=\"http://purl.org/dc/elements/1.1/\" xmlns:rdf=\"http://www.w3.org/1999/02/22-rdf-syntax-ns#\">\n   <cc:Work>\n    <dc:type rdf:resource=\"http://purl.org/dc/dcmitype/StillImage\"/>\n    <dc:date>2021-03-11T02:28:29.571636</dc:date>\n    <dc:format>image/svg+xml</dc:format>\n    <dc:creator>\n     <cc:Agent>\n      <dc:title>Matplotlib v3.3.4, https://matplotlib.org/</dc:title>\n     </cc:Agent>\n    </dc:creator>\n   </cc:Work>\n  </rdf:RDF>\n </metadata>\n <defs>\n  <style type=\"text/css\">*{stroke-linecap:butt;stroke-linejoin:round;}</style>\n </defs>\n <g id=\"figure_1\">\n  <g id=\"patch_1\">\n   <path d=\"M 0 252.210756 \nL 272.858059 252.210756 \nL 272.858059 0 \nL 0 0 \nz\n\" style=\"fill:none;\"/>\n  </g>\n  <g id=\"axes_1\">\n   <g id=\"patch_2\">\n    <path d=\"M 39.65 228.332631 \nL 257.09 228.332631 \nL 257.09 10.892631 \nL 39.65 10.892631 \nz\n\" style=\"fill:#ffffff;\"/>\n   </g>\n   <g clip-path=\"url(#p9ff57754ea)\">\n    <image height=\"218\" id=\"imagec279d637ba\" transform=\"scale(1 -1)translate(0 -218)\" width=\"218\" x=\"39.65\" xlink:href=\"data:image/png;base64,\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\" y=\"-10.332631\"/>\n   </g>\n   <g id=\"matplotlib.axis_1\">\n    <g id=\"xtick_1\">\n     <g id=\"line2d_1\">\n      <defs>\n       <path d=\"M 0 0 \nL 0 3.5 \n\" id=\"m6a6945feae\" style=\"stroke:#000000;stroke-width:0.8;\"/>\n      </defs>\n      <g>\n       <use style=\"stroke:#000000;stroke-width:0.8;\" x=\"39.756588\" xlink:href=\"#m6a6945feae\" y=\"228.332631\"/>\n      </g>\n     </g>\n     <g id=\"text_1\">\n      <!-- 0 -->\n      <g transform=\"translate(36.575338 242.931068)scale(0.1 -0.1)\">\n       <defs>\n        <path d=\"M 31.78125 66.40625 \nQ 24.171875 66.40625 20.328125 58.90625 \nQ 16.5 51.421875 16.5 36.375 \nQ 16.5 21.390625 20.328125 13.890625 \nQ 24.171875 6.390625 31.78125 6.390625 \nQ 39.453125 6.390625 43.28125 13.890625 \nQ 47.125 21.390625 47.125 36.375 \nQ 47.125 51.421875 43.28125 58.90625 \nQ 39.453125 66.40625 31.78125 66.40625 \nz\nM 31.78125 74.21875 \nQ 44.046875 74.21875 50.515625 64.515625 \nQ 56.984375 54.828125 56.984375 36.375 \nQ 56.984375 17.96875 50.515625 8.265625 \nQ 44.046875 -1.421875 31.78125 -1.421875 \nQ 19.53125 -1.421875 13.0625 8.265625 \nQ 6.59375 17.96875 6.59375 36.375 \nQ 6.59375 54.828125 13.0625 64.515625 \nQ 19.53125 74.21875 31.78125 74.21875 \nz\n\" id=\"DejaVuSans-48\"/>\n       </defs>\n       <use xlink:href=\"#DejaVuSans-48\"/>\n      </g>\n     </g>\n    </g>\n    <g id=\"xtick_2\">\n     <g id=\"line2d_2\">\n      <g>\n       <use style=\"stroke:#000000;stroke-width:0.8;\" x=\"82.391882\" xlink:href=\"#m6a6945feae\" y=\"228.332631\"/>\n      </g>\n     </g>\n     <g id=\"text_2\">\n      <!-- 200 -->\n      <g transform=\"translate(72.848132 242.931068)scale(0.1 -0.1)\">\n       <defs>\n        <path d=\"M 19.1875 8.296875 \nL 53.609375 8.296875 \nL 53.609375 0 \nL 7.328125 0 \nL 7.328125 8.296875 \nQ 12.9375 14.109375 22.625 23.890625 \nQ 32.328125 33.6875 34.8125 36.53125 \nQ 39.546875 41.84375 41.421875 45.53125 \nQ 43.3125 49.21875 43.3125 52.78125 \nQ 43.3125 58.59375 39.234375 62.25 \nQ 35.15625 65.921875 28.609375 65.921875 \nQ 23.96875 65.921875 18.8125 64.3125 \nQ 13.671875 62.703125 7.8125 59.421875 \nL 7.8125 69.390625 \nQ 13.765625 71.78125 18.9375 73 \nQ 24.125 74.21875 28.421875 74.21875 \nQ 39.75 74.21875 46.484375 68.546875 \nQ 53.21875 62.890625 53.21875 53.421875 \nQ 53.21875 48.921875 51.53125 44.890625 \nQ 49.859375 40.875 45.40625 35.40625 \nQ 44.1875 33.984375 37.640625 27.21875 \nQ 31.109375 20.453125 19.1875 8.296875 \nz\n\" id=\"DejaVuSans-50\"/>\n       </defs>\n       <use xlink:href=\"#DejaVuSans-50\"/>\n       <use x=\"63.623047\" xlink:href=\"#DejaVuSans-48\"/>\n       <use x=\"127.246094\" xlink:href=\"#DejaVuSans-48\"/>\n      </g>\n     </g>\n    </g>\n    <g id=\"xtick_3\">\n     <g id=\"line2d_3\">\n      <g>\n       <use style=\"stroke:#000000;stroke-width:0.8;\" x=\"125.027176\" xlink:href=\"#m6a6945feae\" y=\"228.332631\"/>\n      </g>\n     </g>\n     <g id=\"text_3\">\n      <!-- 400 -->\n      <g transform=\"translate(115.483426 242.931068)scale(0.1 -0.1)\">\n       <defs>\n        <path d=\"M 37.796875 64.3125 \nL 12.890625 25.390625 \nL 37.796875 25.390625 \nz\nM 35.203125 72.90625 \nL 47.609375 72.90625 \nL 47.609375 25.390625 \nL 58.015625 25.390625 \nL 58.015625 17.1875 \nL 47.609375 17.1875 \nL 47.609375 0 \nL 37.796875 0 \nL 37.796875 17.1875 \nL 4.890625 17.1875 \nL 4.890625 26.703125 \nz\n\" id=\"DejaVuSans-52\"/>\n       </defs>\n       <use xlink:href=\"#DejaVuSans-52\"/>\n       <use x=\"63.623047\" xlink:href=\"#DejaVuSans-48\"/>\n       <use x=\"127.246094\" xlink:href=\"#DejaVuSans-48\"/>\n      </g>\n     </g>\n    </g>\n    <g id=\"xtick_4\">\n     <g id=\"line2d_4\">\n      <g>\n       <use style=\"stroke:#000000;stroke-width:0.8;\" x=\"167.662471\" xlink:href=\"#m6a6945feae\" y=\"228.332631\"/>\n      </g>\n     </g>\n     <g id=\"text_4\">\n      <!-- 600 -->\n      <g transform=\"translate(158.118721 242.931068)scale(0.1 -0.1)\">\n       <defs>\n        <path d=\"M 33.015625 40.375 \nQ 26.375 40.375 22.484375 35.828125 \nQ 18.609375 31.296875 18.609375 23.390625 \nQ 18.609375 15.53125 22.484375 10.953125 \nQ 26.375 6.390625 33.015625 6.390625 \nQ 39.65625 6.390625 43.53125 10.953125 \nQ 47.40625 15.53125 47.40625 23.390625 \nQ 47.40625 31.296875 43.53125 35.828125 \nQ 39.65625 40.375 33.015625 40.375 \nz\nM 52.59375 71.296875 \nL 52.59375 62.3125 \nQ 48.875 64.0625 45.09375 64.984375 \nQ 41.3125 65.921875 37.59375 65.921875 \nQ 27.828125 65.921875 22.671875 59.328125 \nQ 17.53125 52.734375 16.796875 39.40625 \nQ 19.671875 43.65625 24.015625 45.921875 \nQ 28.375 48.1875 33.59375 48.1875 \nQ 44.578125 48.1875 50.953125 41.515625 \nQ 57.328125 34.859375 57.328125 23.390625 \nQ 57.328125 12.15625 50.6875 5.359375 \nQ 44.046875 -1.421875 33.015625 -1.421875 \nQ 20.359375 -1.421875 13.671875 8.265625 \nQ 6.984375 17.96875 6.984375 36.375 \nQ 6.984375 53.65625 15.1875 63.9375 \nQ 23.390625 74.21875 37.203125 74.21875 \nQ 40.921875 74.21875 44.703125 73.484375 \nQ 48.484375 72.75 52.59375 71.296875 \nz\n\" id=\"DejaVuSans-54\"/>\n       </defs>\n       <use xlink:href=\"#DejaVuSans-54\"/>\n       <use x=\"63.623047\" xlink:href=\"#DejaVuSans-48\"/>\n       <use x=\"127.246094\" xlink:href=\"#DejaVuSans-48\"/>\n      </g>\n     </g>\n    </g>\n    <g id=\"xtick_5\">\n     <g id=\"line2d_5\">\n      <g>\n       <use style=\"stroke:#000000;stroke-width:0.8;\" x=\"210.297765\" xlink:href=\"#m6a6945feae\" y=\"228.332631\"/>\n      </g>\n     </g>\n     <g id=\"text_5\">\n      <!-- 800 -->\n      <g transform=\"translate(200.754015 242.931068)scale(0.1 -0.1)\">\n       <defs>\n        <path d=\"M 31.78125 34.625 \nQ 24.75 34.625 20.71875 30.859375 \nQ 16.703125 27.09375 16.703125 20.515625 \nQ 16.703125 13.921875 20.71875 10.15625 \nQ 24.75 6.390625 31.78125 6.390625 \nQ 38.8125 6.390625 42.859375 10.171875 \nQ 46.921875 13.96875 46.921875 20.515625 \nQ 46.921875 27.09375 42.890625 30.859375 \nQ 38.875 34.625 31.78125 34.625 \nz\nM 21.921875 38.8125 \nQ 15.578125 40.375 12.03125 44.71875 \nQ 8.5 49.078125 8.5 55.328125 \nQ 8.5 64.0625 14.71875 69.140625 \nQ 20.953125 74.21875 31.78125 74.21875 \nQ 42.671875 74.21875 48.875 69.140625 \nQ 55.078125 64.0625 55.078125 55.328125 \nQ 55.078125 49.078125 51.53125 44.71875 \nQ 48 40.375 41.703125 38.8125 \nQ 48.828125 37.15625 52.796875 32.3125 \nQ 56.78125 27.484375 56.78125 20.515625 \nQ 56.78125 9.90625 50.3125 4.234375 \nQ 43.84375 -1.421875 31.78125 -1.421875 \nQ 19.734375 -1.421875 13.25 4.234375 \nQ 6.78125 9.90625 6.78125 20.515625 \nQ 6.78125 27.484375 10.78125 32.3125 \nQ 14.796875 37.15625 21.921875 38.8125 \nz\nM 18.3125 54.390625 \nQ 18.3125 48.734375 21.84375 45.5625 \nQ 25.390625 42.390625 31.78125 42.390625 \nQ 38.140625 42.390625 41.71875 45.5625 \nQ 45.3125 48.734375 45.3125 54.390625 \nQ 45.3125 60.0625 41.71875 63.234375 \nQ 38.140625 66.40625 31.78125 66.40625 \nQ 25.390625 66.40625 21.84375 63.234375 \nQ 18.3125 60.0625 18.3125 54.390625 \nz\n\" id=\"DejaVuSans-56\"/>\n       </defs>\n       <use xlink:href=\"#DejaVuSans-56\"/>\n       <use x=\"63.623047\" xlink:href=\"#DejaVuSans-48\"/>\n       <use x=\"127.246094\" xlink:href=\"#DejaVuSans-48\"/>\n      </g>\n     </g>\n    </g>\n    <g id=\"xtick_6\">\n     <g id=\"line2d_6\">\n      <g>\n       <use style=\"stroke:#000000;stroke-width:0.8;\" x=\"252.933059\" xlink:href=\"#m6a6945feae\" y=\"228.332631\"/>\n      </g>\n     </g>\n     <g id=\"text_6\">\n      <!-- 1000 -->\n      <g transform=\"translate(240.208059 242.931068)scale(0.1 -0.1)\">\n       <defs>\n        <path d=\"M 12.40625 8.296875 \nL 28.515625 8.296875 \nL 28.515625 63.921875 \nL 10.984375 60.40625 \nL 10.984375 69.390625 \nL 28.421875 72.90625 \nL 38.28125 72.90625 \nL 38.28125 8.296875 \nL 54.390625 8.296875 \nL 54.390625 0 \nL 12.40625 0 \nz\n\" id=\"DejaVuSans-49\"/>\n       </defs>\n       <use xlink:href=\"#DejaVuSans-49\"/>\n       <use x=\"63.623047\" xlink:href=\"#DejaVuSans-48\"/>\n       <use x=\"127.246094\" xlink:href=\"#DejaVuSans-48\"/>\n       <use x=\"190.869141\" xlink:href=\"#DejaVuSans-48\"/>\n      </g>\n     </g>\n    </g>\n   </g>\n   <g id=\"matplotlib.axis_2\">\n    <g id=\"ytick_1\">\n     <g id=\"line2d_7\">\n      <defs>\n       <path d=\"M 0 0 \nL -3.5 0 \n\" id=\"m63363ce6ce\" style=\"stroke:#000000;stroke-width:0.8;\"/>\n      </defs>\n      <g>\n       <use style=\"stroke:#000000;stroke-width:0.8;\" x=\"39.65\" xlink:href=\"#m63363ce6ce\" y=\"10.999219\"/>\n      </g>\n     </g>\n     <g id=\"text_7\">\n      <!-- 0 -->\n      <g transform=\"translate(26.2875 14.798438)scale(0.1 -0.1)\">\n       <use xlink:href=\"#DejaVuSans-48\"/>\n      </g>\n     </g>\n    </g>\n    <g id=\"ytick_2\">\n     <g id=\"line2d_8\">\n      <g>\n       <use style=\"stroke:#000000;stroke-width:0.8;\" x=\"39.65\" xlink:href=\"#m63363ce6ce\" y=\"53.634513\"/>\n      </g>\n     </g>\n     <g id=\"text_8\">\n      <!-- 200 -->\n      <g transform=\"translate(13.5625 57.433732)scale(0.1 -0.1)\">\n       <use xlink:href=\"#DejaVuSans-50\"/>\n       <use x=\"63.623047\" xlink:href=\"#DejaVuSans-48\"/>\n       <use x=\"127.246094\" xlink:href=\"#DejaVuSans-48\"/>\n      </g>\n     </g>\n    </g>\n    <g id=\"ytick_3\">\n     <g id=\"line2d_9\">\n      <g>\n       <use style=\"stroke:#000000;stroke-width:0.8;\" x=\"39.65\" xlink:href=\"#m63363ce6ce\" y=\"96.269807\"/>\n      </g>\n     </g>\n     <g id=\"text_9\">\n      <!-- 400 -->\n      <g transform=\"translate(13.5625 100.069026)scale(0.1 -0.1)\">\n       <use xlink:href=\"#DejaVuSans-52\"/>\n       <use x=\"63.623047\" xlink:href=\"#DejaVuSans-48\"/>\n       <use x=\"127.246094\" xlink:href=\"#DejaVuSans-48\"/>\n      </g>\n     </g>\n    </g>\n    <g id=\"ytick_4\">\n     <g id=\"line2d_10\">\n      <g>\n       <use style=\"stroke:#000000;stroke-width:0.8;\" x=\"39.65\" xlink:href=\"#m63363ce6ce\" y=\"138.905101\"/>\n      </g>\n     </g>\n     <g id=\"text_10\">\n      <!-- 600 -->\n      <g transform=\"translate(13.5625 142.70432)scale(0.1 -0.1)\">\n       <use xlink:href=\"#DejaVuSans-54\"/>\n       <use x=\"63.623047\" xlink:href=\"#DejaVuSans-48\"/>\n       <use x=\"127.246094\" xlink:href=\"#DejaVuSans-48\"/>\n      </g>\n     </g>\n    </g>\n    <g id=\"ytick_5\">\n     <g id=\"line2d_11\">\n      <g>\n       <use style=\"stroke:#000000;stroke-width:0.8;\" x=\"39.65\" xlink:href=\"#m63363ce6ce\" y=\"181.540395\"/>\n      </g>\n     </g>\n     <g id=\"text_11\">\n      <!-- 800 -->\n      <g transform=\"translate(13.5625 185.339614)scale(0.1 -0.1)\">\n       <use xlink:href=\"#DejaVuSans-56\"/>\n       <use x=\"63.623047\" xlink:href=\"#DejaVuSans-48\"/>\n       <use x=\"127.246094\" xlink:href=\"#DejaVuSans-48\"/>\n      </g>\n     </g>\n    </g>\n    <g id=\"ytick_6\">\n     <g id=\"line2d_12\">\n      <g>\n       <use style=\"stroke:#000000;stroke-width:0.8;\" x=\"39.65\" xlink:href=\"#m63363ce6ce\" y=\"224.175689\"/>\n      </g>\n     </g>\n     <g id=\"text_12\">\n      <!-- 1000 -->\n      <g transform=\"translate(7.2 227.974908)scale(0.1 -0.1)\">\n       <use xlink:href=\"#DejaVuSans-49\"/>\n       <use x=\"63.623047\" xlink:href=\"#DejaVuSans-48\"/>\n       <use x=\"127.246094\" xlink:href=\"#DejaVuSans-48\"/>\n       <use x=\"190.869141\" xlink:href=\"#DejaVuSans-48\"/>\n      </g>\n     </g>\n    </g>\n   </g>\n   <g id=\"patch_3\">\n    <path d=\"M 39.65 228.332631 \nL 39.65 10.892631 \n\" style=\"fill:none;stroke:#000000;stroke-linecap:square;stroke-linejoin:miter;stroke-width:0.8;\"/>\n   </g>\n   <g id=\"patch_4\">\n    <path d=\"M 257.09 228.332631 \nL 257.09 10.892631 \n\" style=\"fill:none;stroke:#000000;stroke-linecap:square;stroke-linejoin:miter;stroke-width:0.8;\"/>\n   </g>\n   <g id=\"patch_5\">\n    <path d=\"M 39.65 228.332631 \nL 257.09 228.332631 \n\" style=\"fill:none;stroke:#000000;stroke-linecap:square;stroke-linejoin:miter;stroke-width:0.8;\"/>\n   </g>\n   <g id=\"patch_6\">\n    <path d=\"M 39.65 10.892631 \nL 257.09 10.892631 \n\" style=\"fill:none;stroke:#000000;stroke-linecap:square;stroke-linejoin:miter;stroke-width:0.8;\"/>\n   </g>\n  </g>\n </g>\n <defs>\n  <clipPath id=\"p9ff57754ea\">\n   <rect height=\"217.44\" width=\"217.44\" x=\"39.65\" y=\"10.892631\"/>\n  </clipPath>\n </defs>\n</svg>\n",
      "image/png": "[encoded data removed]"
     },
     "metadata": {
      "needs_background": "light"
     }
    }
   ],
   "source": [
    "#main\n",
    "\n",
    "#set up variables\n",
    "image = \"image.jpg\"\n",
    "key = 1234\n",
    "secret_word = \"Ethan\"\n",
    "\n",
    "# make ownership share\n",
    "ownership = makeownership(image,key,secret_word)\n",
    "\n",
    "# make master share\n",
    "master = makemaster(image,key)\n",
    "\n",
    "# make master imposter image\n",
    "\n",
    "#master = makemaster(\"imposter.jpg\",key)\n",
    "\n",
    "# make decoder\n",
    "decoder = makedecoder(ownership,master)\n",
    "\n",
    "plt.imshow(decoder, cmap=\"gray\")\n",
    "\n"
   ]
  },
  {
   "cell_type": "code",
   "execution_count": 8,
   "metadata": {},
   "outputs": [],
   "source": [
    "# generate ownership share \n",
    "def makeownership(IMAGE,KEY,MESSAGE):\n",
    "   #variables\n",
    "    src = cv2.imread(IMAGE, cv2.IMREAD_GRAYSCALE)\n",
    "    random.seed(KEY)\n",
    "    sampleRate=5\n",
    "\n",
    "    #Get average of image\n",
    "    popAve = np.average(src)\n",
    "\n",
    "    #Create share filled with zeros\n",
    "    share = np.zeros((src.shape[0]*2,src.shape[1]*2))\n",
    "\n",
    "    #Create Secret image with text\n",
    "    secret = np.zeros(src.shape)\n",
    "    secret = cv2.putText(secret, MESSAGE, (250, int(2.5*src.shape[0] / 4)), cv2.FONT_HERSHEY_SIMPLEX, 4, 255, 6, cv2.LINE_AA)\n",
    "\n",
    "    #Check if each pixel is higher or lower than the average and fill share\n",
    "    for r in range(src.shape[0]): \n",
    "        for c in range(src.shape[1]): \n",
    "    \n",
    "            #Grab 5 random pixels and take the averge of it\n",
    "            sampleAve = 0 \n",
    "            for i in range(sampleRate):\n",
    "                #grab rand pix\n",
    "                randNum = random.randint(0, (src.shape[0]*src.shape[1]-1))\n",
    "                #convert pixnumber 1d to 2d\n",
    "                pixRow = randNum % src.shape[0]\n",
    "                pixCol = int(randNum / src.shape[0])\n",
    "                #add to sample\n",
    "                sampleAve += src[pixRow][pixCol]\n",
    "\n",
    "            #Calculate Sample Average\n",
    "            sampleAve = sampleAve/sampleRate\n",
    "\n",
    "            #Fill share according to paper\n",
    "            if((secret[r][c] == 0 and sampleAve < popAve) or (secret[r][c] == 255 and sampleAve >= popAve)):\n",
    "                share[2*r+1][2*c] = 1\n",
    "                share[2*r][2*c+1] = 1\n",
    "            else:\n",
    "                share[2*r][2*c] = 1\n",
    "                share[2*r+1][2*c+1] = 1 \n",
    "    return share \n",
    "\n",
    "    "
   ]
  },
  {
   "cell_type": "code",
   "execution_count": 9,
   "metadata": {},
   "outputs": [],
   "source": [
    "# generate master share\n",
    "def makemaster(IMAGE,KEY):\n",
    "\n",
    "   \n",
    "    #variables\n",
    "    src = cv2.imread(IMAGE, cv2.IMREAD_GRAYSCALE)\n",
    "    random.seed(KEY)\n",
    "    sampleRate=5\n",
    "\n",
    "    #Get average of image\n",
    "    popAve = np.average(src)\n",
    "\n",
    "    #Create share filled with zeros\n",
    "    share = np.zeros((src.shape[0]*2,src.shape[1]*2))\n",
    "\n",
    "    #Check if each pixel is higher or lower than the average and fill share\n",
    "    for r in range(src.shape[0]): \n",
    "        for c in range(src.shape[1]): \n",
    "    \n",
    "            #Grab 5 random pixels and take the averge of it\n",
    "            sampleAve = 0 \n",
    "            for i in range(sampleRate):\n",
    "                #grab rand pix\n",
    "                randNum = random.randint(0, (src.shape[0]*src.shape[1]-1))\n",
    "                #convert pixnumber 1d to 2d\n",
    "                pixRow = randNum % src.shape[0]\n",
    "                pixCol = int(randNum / src.shape[0])\n",
    "                #add to sample\n",
    "                sampleAve += src[pixRow][pixCol]\n",
    "\n",
    "            #Calculate Sample Average\n",
    "            sampleAve = sampleAve/sampleRate\n",
    "\n",
    "            #Fill share according to paper\n",
    "            if(sampleAve < popAve):\n",
    "                share[2*r+1][2*c] = 1\n",
    "                share[2*r][2*c+1] = 1\n",
    "            else:\n",
    "                share[2*r][2*c] = 1\n",
    "                share[2*r+1][2*c+1] = 1 \n",
    "    return share"
   ]
  },
  {
   "cell_type": "code",
   "execution_count": 10,
   "metadata": {},
   "outputs": [],
   "source": [
    "# decode image \n",
    "def makedecoder(ownership,master):\n",
    "    dst = np.zeros(ownership.shape)\n",
    "    for r in range(ownership.shape[0]): \n",
    "        for c in range(ownership.shape[1]): \n",
    "            if(master[r][c] != ownership[r][c]):\n",
    "                dst[r][c] = 255\n",
    "    return dst"
   ]
  },
  {
   "cell_type": "code",
   "execution_count": null,
   "metadata": {},
   "outputs": [],
   "source": []
  }
 ]
}